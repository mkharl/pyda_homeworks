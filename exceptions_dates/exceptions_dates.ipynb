{
 "cells": [
  {
   "cell_type": "markdown",
   "metadata": {
    "collapsed": true,
    "pycharm": {
     "name": "#%% md\n"
    }
   },
   "source": [
    "# Задание\n",
    "\n",
    "## Задание 1\n",
    "\n",
    "Печатные газеты использовали свой формат дат для каждого выпуска.\n",
    "Для каждой газеты из списка напишите формат указанной даты для перевода в объект datetime:\n",
    "\n",
    "    The Moscow Times - Wednesday, October 2, 2002\n",
    "    The Guardian - Friday, 11.10.13\n",
    "    Daily News - Thursday, 18 August 1977\n",
    "\n",
    "## Задание 2\n",
    "Дан поток дат в формате `YYYY-MM-DD`, в которых встречаются некорректные значения:\n",
    "```python\n",
    "stream = ['2018-04-02', '2018-02-29', '2018-19-02']\n",
    "```\n",
    "\n",
    "Напишите функцию, которая проверяет эти даты на корректность.\n",
    "Т. е. для каждой даты возвращает `True` (дата корректна) или `False` (некорректная дата).\n",
    "\n",
    "## Задание 3\n",
    "Напишите функцию `date_range`, которая возвращает список дат за период от `start_date` до `end_date`.\n",
    "Даты должны вводиться в формате `YYYY-MM-DD`. В случае неверного формата или при `start_date > end_date`\n",
    "должен возвращаться пустой список.\n",
    "\n",
    "## Задание 4 (бонусное)\n",
    "Ваш коллега прислал код функции:\n",
    "\n",
    "```python\n",
    "DEFAULT_USER_COUNT = 3\n",
    "\n",
    "\n",
    "def delete_and_return_last_user(region, default_list=['A100', 'A101', 'A102']):\n",
    "    \"\"\"\n",
    "    Удаляет из списка default_list последнего пользователя\n",
    "    и возвращает ID нового последнего пользователя.\n",
    "    \"\"\"\n",
    "    element_to_delete = default_list[-1]\n",
    "    default_list.remove(element_to_delete)\n",
    "    return default_list[DEFAULT_USER_COUNT-2]\n",
    "```\n",
    "\n",
    "При однократном вызове этой функции все работает корректно:\n",
    "```\n",
    "delete_and_return_last_user(1)\n",
    "'A101'\n",
    "```\n",
    "\n",
    "Однако, при повторном вызове получается ошибка IndexError: list index out of range.\n",
    "\n",
    "Задание:\n",
    "\n",
    "- Что значит ошибка list index out of range?\n",
    "- Почему при первом запуске функция работает корректно, а при втором - нет?"
   ]
  },
  {
   "cell_type": "markdown",
   "metadata": {},
   "source": [
    "# Задание 1"
   ]
  },
  {
   "cell_type": "code",
   "execution_count": 1,
   "metadata": {},
   "outputs": [],
   "source": [
    "from datetime import datetime as dt\n",
    "\n",
    "\n",
    "def custom_time_to_datetime(fmt, d):\n",
    "    # на самом деле, день недели фактически игнорируется;\n",
    "    # функция не проверяет, действительно ли такой был день недели в указанную дату\n",
    "    formats = {\n",
    "        'The Moscow Times': '%A, %B %d, %Y',\n",
    "        'The Guardian': '%A, %d.%m.%y',\n",
    "        'Daily News': '%A, %d %B %Y'\n",
    "    }\n",
    "\n",
    "    if fmt not in formats:\n",
    "        raise Exception('Unknown format!')\n",
    "    else:\n",
    "        return dt.strptime(d, formats[fmt])\n",
    "\n",
    "\n",
    "print(custom_time_to_datetime('The Moscow Times', 'Wednesday, October 2, 2002'))\n",
    "print(custom_time_to_datetime('The Guardian', 'Friday, 11.10.13'))\n",
    "print(custom_time_to_datetime('Daily News', 'Thursday, 18 August 1977'))\n",
    "# print(custom_time_to_datetime('Unknown format', 'Thursday, 18 August 1977'))"
   ]
  },
  {
   "cell_type": "markdown",
   "source": [
    "# Задание 2"
   ],
   "metadata": {
    "collapsed": false
   }
  },
  {
   "cell_type": "code",
   "execution_count": 3,
   "outputs": [],
   "source": [
    "from datetime import datetime as dt\n",
    "\n",
    "stream = ['2018-04-02', '201xxxx', '2018-22-02']\n",
    "\n",
    "\n",
    "def is_ymd_date(d):\n",
    "    try:\n",
    "        dt.strptime(d, '%Y-%m-%d')\n",
    "        return True\n",
    "    except:\n",
    "        return False\n",
    "\n",
    "\n",
    "def process_dlist():\n",
    "    print(*list(map(is_ymd_date, stream)))\n",
    "\n",
    "\n",
    "process_dlist()"
   ],
   "metadata": {
    "collapsed": false,
    "pycharm": {
     "name": "#%%\n"
    }
   }
  },
  {
   "cell_type": "markdown",
   "source": [
    "# Задание 3"
   ],
   "metadata": {
    "collapsed": false
   }
  },
  {
   "cell_type": "code",
   "source": [
    "import datetime as dt\n",
    "\n",
    "\n",
    "def date_range(start_date, end_date):\n",
    "    try:\n",
    "        start_date, end_date = [dt.datetime.strptime(d, '%Y-%m-%d') for d in [start_date, end_date]]\n",
    "        return [dt.datetime.strftime(start_date + dt.timedelta(days=i), '%Y-%m-%d')\n",
    "                for i in range((end_date-start_date).days + 1)]\n",
    "    except:\n",
    "        return []\n",
    "\n",
    "\n",
    "print(date_range('2000-01-04', '2000-01-04'))"
   ],
   "metadata": {
    "collapsed": false,
    "pycharm": {
     "name": "#%%\n"
    }
   },
   "execution_count": null,
   "outputs": []
  },
  {
   "cell_type": "markdown",
   "source": [
    "# Задание 4\n",
    "\n",
    "[См. документацию Python](https://docs.python.org/3/tutorial/controlflow.html#default-argument-values),\n",
    "начиная с текста `Important warning: The default value is evaluated only once...`\n",
    "\n",
    "Дело в том, что дефолтные значения параметров функций, соответствующие объектам классов,\n",
    "инициализируются только один раз за все время работы программы и могут быть модифицированы в процессе выполнения\n",
    "своей функции, как и происходит в этом примере. Ошибка list index out of range возникает\n",
    "потому что на момент первого вызова у нас есть список из трех элементов, мы удаляем второй из трех элементов\n",
    "и возвращаем второй элемент списка; на момент второго вызова список уже содержит только два элемента, мы удаляем\n",
    "второй из двух элементов и пытаемся вернуть второй элемент списка, но в нем остался только один элемент."
   ],
   "metadata": {
    "collapsed": false
   }
  }
 ],
 "metadata": {
  "kernelspec": {
   "display_name": "Python 3",
   "language": "python",
   "name": "python3"
  },
  "language_info": {
   "codemirror_mode": {
    "name": "ipython",
    "version": 3
   },
   "file_extension": ".py",
   "mimetype": "text/x-python",
   "name": "python",
   "nbconvert_exporter": "python",
   "pygments_lexer": "ipython3",
   "version": "3.8.5"
  }
 },
 "nbformat": 4,
 "nbformat_minor": 1
}