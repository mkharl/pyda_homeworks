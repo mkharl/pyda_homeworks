{
 "cells": [
  {
   "cell_type": "markdown",
   "metadata": {
    "collapsed": true,
    "pycharm": {
     "name": "#%% md\n"
    }
   },
   "source": [
    "# Задание\n",
    "\n",
    "1. Переведите содержимое файла `purchase_log.txt` в словарь `purchases` вида:\n",
    "```\n",
    "{‘1840e0b9d4’: ‘Продукты’, …}\n",
    "```\n",
    "\n",
    "2. Для каждого `user_id` в файле `visit_log.csv` определите третий столбец с категорией покупки (если покупка была, сам файл `visit_log.csv` изменять не надо). Запишите в файл `funnel.csv` визиты из файла `visit_log.csv`, в которых были покупки с указанием категории.\n",
    "\n",
    "    Учтите условия на данные:\n",
    "    содержимое `purchase_log.txt` помещается в оперативную память компьютера\n",
    "    содержимое `visit_log.csv` - нет; используйте только построчную обработку этого файла"
   ]
  },
  {
   "cell_type": "markdown",
   "metadata": {},
   "source": [
    "# Задание 1"
   ]
  },
  {
   "cell_type": "code",
   "execution_count": 1,
   "metadata": {},
   "outputs": [],
   "source": [
    "import json\n",
    "\n",
    "orders = {}\n",
    "with open('purchase_log.txt', 'r', encoding='utf-8') as f_in:\n",
    "    f_in.readline()\n",
    "    for line in f_in:\n",
    "        if not line.strip():\n",
    "            continue\n",
    "        el = json.loads(line)\n",
    "        user_id = el['user_id']\n",
    "        if user_id not in orders:\n",
    "            orders[user_id] = el['category']\n",
    "        else:\n",
    "            print(f'user_id \"{user_id}\" is already in dictionary!')"
   ]
  },
  {
   "cell_type": "markdown",
   "source": [
    "# Задание 2"
   ],
   "metadata": {
    "collapsed": false
   }
  },
  {
   "cell_type": "code",
   "execution_count": 3,
   "outputs": [],
   "source": [
    "import json\n",
    "\n",
    "orders = {}\n",
    "with open('purchase_log.txt', 'r', encoding='utf-8') as f_orders:\n",
    "    f_orders.readline()\n",
    "    for line in f_orders:\n",
    "        if not line.strip():\n",
    "            continue\n",
    "        el = json.loads(line)\n",
    "        user_id = el['user_id']\n",
    "        if user_id not in orders:\n",
    "            orders[user_id] = el['category']\n",
    "    with open('visit_log.csv', 'r', encoding='utf-8') as f_visits:\n",
    "        with open('funnel.csv', 'w', encoding='utf-8') as f_orders_full:\n",
    "            f_visits.readline()\n",
    "            for line in f_visits:\n",
    "                if not line.strip():\n",
    "                    continue\n",
    "                user_id = line.strip('').split(',')[0]\n",
    "                f_orders_full.write(f'{line.strip()},{orders[user_id]}\\n')"
   ],
   "metadata": {
    "collapsed": false,
    "pycharm": {
     "name": "#%%\n"
    }
   }
  }
 ],
 "metadata": {
  "kernelspec": {
   "display_name": "Python 3",
   "language": "python",
   "name": "python3"
  },
  "language_info": {
   "codemirror_mode": {
    "name": "ipython",
    "version": 3
   },
   "file_extension": ".py",
   "mimetype": "text/x-python",
   "name": "python",
   "nbconvert_exporter": "python",
   "pygments_lexer": "ipython3",
   "version": "3.8.5"
  }
 },
 "nbformat": 4,
 "nbformat_minor": 1
}